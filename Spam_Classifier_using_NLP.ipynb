{
  "nbformat": 4,
  "nbformat_minor": 0,
  "metadata": {
    "colab": {
      "name": "Spam Classifier using NLP.ipynb",
      "provenance": [],
      "authorship_tag": "ABX9TyNetvZX/2SkJMtkcLNOtR3q",
      "include_colab_link": true
    },
    "kernelspec": {
      "name": "python3",
      "display_name": "Python 3"
    },
    "language_info": {
      "name": "python"
    }
  },
  "cells": [
    {
      "cell_type": "markdown",
      "metadata": {
        "id": "view-in-github",
        "colab_type": "text"
      },
      "source": [
        "<a href=\"https://colab.research.google.com/github/chandrashalini/Spam-Classifier-using-NLP/blob/main/Spam_Classifier_using_NLP.ipynb\" target=\"_parent\"><img src=\"https://colab.research.google.com/assets/colab-badge.svg\" alt=\"Open In Colab\"/></a>"
      ]
    },
    {
      "cell_type": "code",
      "metadata": {
        "id": "ynPNnhQuza2x"
      },
      "source": [
        "import pandas as pd #import pandas for reading dataset\n"
      ],
      "execution_count": 34,
      "outputs": []
    },
    {
      "cell_type": "code",
      "metadata": {
        "id": "DrbK9pfc2WG9"
      },
      "source": [
        "messages = pd.read_csv('https://raw.githubusercontent.com/chandrashalini/Spam-Classifier-using-NLP/main/SMSSpamCollection',sep='\\t',names=[\"label\",\"message\"]) #labelling the name to the column"
      ],
      "execution_count": 35,
      "outputs": []
    },
    {
      "cell_type": "code",
      "metadata": {
        "colab": {
          "base_uri": "https://localhost:8080/"
        },
        "id": "hEbNnu7JV196",
        "outputId": "a5de020f-6692-40fe-c35c-2d76918204bf"
      },
      "source": [
        "messages.shape #it shows 5572 rows and 2 columns"
      ],
      "execution_count": 36,
      "outputs": [
        {
          "output_type": "execute_result",
          "data": {
            "text/plain": [
              "(5572, 2)"
            ]
          },
          "metadata": {},
          "execution_count": 36
        }
      ]
    },
    {
      "cell_type": "code",
      "metadata": {
        "colab": {
          "base_uri": "https://localhost:8080/",
          "height": 206
        },
        "id": "qH5eEFVh1bX8",
        "outputId": "5b3c7832-c0ac-49c0-89e2-ff5e48c5e76f"
      },
      "source": [
        "messages.head(5)"
      ],
      "execution_count": 37,
      "outputs": [
        {
          "output_type": "execute_result",
          "data": {
            "text/html": [
              "<div>\n",
              "<style scoped>\n",
              "    .dataframe tbody tr th:only-of-type {\n",
              "        vertical-align: middle;\n",
              "    }\n",
              "\n",
              "    .dataframe tbody tr th {\n",
              "        vertical-align: top;\n",
              "    }\n",
              "\n",
              "    .dataframe thead th {\n",
              "        text-align: right;\n",
              "    }\n",
              "</style>\n",
              "<table border=\"1\" class=\"dataframe\">\n",
              "  <thead>\n",
              "    <tr style=\"text-align: right;\">\n",
              "      <th></th>\n",
              "      <th>label</th>\n",
              "      <th>message</th>\n",
              "    </tr>\n",
              "  </thead>\n",
              "  <tbody>\n",
              "    <tr>\n",
              "      <th>0</th>\n",
              "      <td>ham</td>\n",
              "      <td>Go until jurong point, crazy.. Available only ...</td>\n",
              "    </tr>\n",
              "    <tr>\n",
              "      <th>1</th>\n",
              "      <td>ham</td>\n",
              "      <td>Ok lar... Joking wif u oni...</td>\n",
              "    </tr>\n",
              "    <tr>\n",
              "      <th>2</th>\n",
              "      <td>spam</td>\n",
              "      <td>Free entry in 2 a wkly comp to win FA Cup fina...</td>\n",
              "    </tr>\n",
              "    <tr>\n",
              "      <th>3</th>\n",
              "      <td>ham</td>\n",
              "      <td>U dun say so early hor... U c already then say...</td>\n",
              "    </tr>\n",
              "    <tr>\n",
              "      <th>4</th>\n",
              "      <td>ham</td>\n",
              "      <td>Nah I don't think he goes to usf, he lives aro...</td>\n",
              "    </tr>\n",
              "  </tbody>\n",
              "</table>\n",
              "</div>"
            ],
            "text/plain": [
              "  label                                            message\n",
              "0   ham  Go until jurong point, crazy.. Available only ...\n",
              "1   ham                      Ok lar... Joking wif u oni...\n",
              "2  spam  Free entry in 2 a wkly comp to win FA Cup fina...\n",
              "3   ham  U dun say so early hor... U c already then say...\n",
              "4   ham  Nah I don't think he goes to usf, he lives aro..."
            ]
          },
          "metadata": {},
          "execution_count": 37
        }
      ]
    },
    {
      "cell_type": "markdown",
      "metadata": {
        "id": "SVxX_m4U4wiu"
      },
      "source": [
        "DATA CLEANING AND PREPROCESSING"
      ]
    },
    {
      "cell_type": "code",
      "metadata": {
        "colab": {
          "base_uri": "https://localhost:8080/"
        },
        "id": "HNxIFmQFNjG0",
        "outputId": "1c463b5f-5f12-49f0-d48f-8e6079f23fa6"
      },
      "source": [
        "import re\n",
        "import nltk #import nlp library\n",
        "nltk.download('stopwords')\n"
      ],
      "execution_count": 38,
      "outputs": [
        {
          "output_type": "stream",
          "name": "stdout",
          "text": [
            "[nltk_data] Downloading package stopwords to /root/nltk_data...\n",
            "[nltk_data]   Package stopwords is already up-to-date!\n"
          ]
        },
        {
          "output_type": "execute_result",
          "data": {
            "text/plain": [
              "True"
            ]
          },
          "metadata": {},
          "execution_count": 38
        }
      ]
    },
    {
      "cell_type": "code",
      "metadata": {
        "id": "WSZ1YI-kZ0S7"
      },
      "source": [
        ""
      ],
      "execution_count": 39,
      "outputs": []
    },
    {
      "cell_type": "code",
      "metadata": {
        "colab": {
          "base_uri": "https://localhost:8080/"
        },
        "id": "YhgRFG5xNlDj",
        "outputId": "23b642d0-887a-43e4-f90b-fc74bcf5ae38"
      },
      "source": [
        "from nltk.corpus import stopwords #remove stopwords like is, am ,are \n",
        "from nltk.stem import WordNetLemmatizer # used for stemming purpose finding base root form of the word\n",
        "\n",
        "nltk.download('wordnet')\n",
        "wl = WordNetLemmatizer()\n",
        "corpus  = []\n",
        "\n",
        "#removing unneccesary characters like ,.[]\n",
        "for i in range(0,len(messages)):\n",
        "  review = re.sub('[^a-zA-Z]',' ',messages['message'][i])\n",
        "  review = review.lower()\n",
        "  review = review.split()\n",
        "  review = [wl.lemmatize(word) for word in review if not word in stopwords.words('english')]\n",
        "  review = ' '.join(review)\n",
        "  corpus.append(review)\n",
        "  "
      ],
      "execution_count": 40,
      "outputs": [
        {
          "output_type": "stream",
          "name": "stdout",
          "text": [
            "[nltk_data] Downloading package wordnet to /root/nltk_data...\n",
            "[nltk_data]   Package wordnet is already up-to-date!\n"
          ]
        }
      ]
    },
    {
      "cell_type": "markdown",
      "metadata": {
        "id": "Qmq_543NX9PT"
      },
      "source": [
        "CREATING BAG OF WORDS MODEL #creating document matrix"
      ]
    },
    {
      "cell_type": "code",
      "metadata": {
        "colab": {
          "base_uri": "https://localhost:8080/"
        },
        "id": "3DKJTJ-XT7dT",
        "outputId": "186d8433-2b02-4384-c248-4fd4008a4d33"
      },
      "source": [
        "from sklearn.feature_extraction.text import CountVectorizer\n",
        "cv = CountVectorizer(5000)\n",
        "X = cv.fit_transform(corpus).toarray()\n",
        "X"
      ],
      "execution_count": 42,
      "outputs": [
        {
          "output_type": "execute_result",
          "data": {
            "text/plain": [
              "array([[0, 0, 0, ..., 0, 0, 0],\n",
              "       [0, 0, 0, ..., 0, 0, 0],\n",
              "       [0, 0, 0, ..., 0, 0, 0],\n",
              "       ...,\n",
              "       [0, 0, 0, ..., 0, 0, 0],\n",
              "       [0, 0, 0, ..., 0, 0, 0],\n",
              "       [0, 0, 0, ..., 0, 0, 0]])"
            ]
          },
          "metadata": {},
          "execution_count": 42
        }
      ]
    },
    {
      "cell_type": "code",
      "metadata": {
        "colab": {
          "base_uri": "https://localhost:8080/"
        },
        "id": "x-EC9SlvJACT",
        "outputId": "d51c0a4a-89e0-4aa7-82fc-8f1c4f4a7abe"
      },
      "source": [
        "y = pd.get_dummies(messages['label'])\n",
        "y = y.iloc[:,1].values\n",
        "y"
      ],
      "execution_count": 43,
      "outputs": [
        {
          "output_type": "execute_result",
          "data": {
            "text/plain": [
              "array([0, 0, 1, ..., 0, 0, 0], dtype=uint8)"
            ]
          },
          "metadata": {},
          "execution_count": 43
        }
      ]
    },
    {
      "cell_type": "markdown",
      "metadata": {
        "id": "i2shwhVQKRJB"
      },
      "source": [
        "TRAIN TEST SPLIT"
      ]
    },
    {
      "cell_type": "code",
      "metadata": {
        "id": "8SFPjOp7KOLm"
      },
      "source": [
        "from sklearn.model_selection import train_test_split\n",
        "X_train,X_test,y_train,y_test = train_test_split(X,y,test_size=0.3,random_state = 0)"
      ],
      "execution_count": 44,
      "outputs": []
    },
    {
      "cell_type": "markdown",
      "metadata": {
        "id": "mTsYdlSCKzRO"
      },
      "source": [
        "TRAININ MODEL USING BAYES CLASSIFIER"
      ]
    },
    {
      "cell_type": "code",
      "metadata": {
        "id": "plkg9y38Kyaa"
      },
      "source": [
        "from sklearn.naive_bayes import MultinomialNB\n",
        "\n",
        "spam_Detect_model = MultinomialNB().fit(X_train,y_train)\n",
        "y_pred = spam_Detect_model.predict(X_test)"
      ],
      "execution_count": 45,
      "outputs": []
    },
    {
      "cell_type": "code",
      "metadata": {
        "colab": {
          "base_uri": "https://localhost:8080/"
        },
        "id": "rnOX65xOL-t_",
        "outputId": "aaed9b2e-bbf9-4be2-be97-9bc4d5e1205e"
      },
      "source": [
        "from sklearn.metrics import confusion_matrix\n",
        "confusion_m = confusion_matrix(y_test,y_pred)\n",
        "confusion_m"
      ],
      "execution_count": 46,
      "outputs": [
        {
          "output_type": "execute_result",
          "data": {
            "text/plain": [
              "array([[1429,   22],\n",
              "       [  12,  209]])"
            ]
          },
          "metadata": {},
          "execution_count": 46
        }
      ]
    },
    {
      "cell_type": "code",
      "metadata": {
        "colab": {
          "base_uri": "https://localhost:8080/",
          "height": 377
        },
        "id": "G2p2dYC-Sho0",
        "outputId": "aed23689-3a2a-49bc-a65a-e7147d1ab75d"
      },
      "source": [
        "import matplotlib.pyplot as plt  \n",
        "import seaborn as sns\n",
        "from sklearn.metrics import accuracy_score\n",
        "plt.figure(figsize=(6,6))\n",
        "sns.heatmap(confusion_m, annot=True, fmt=\".0f\", linewidths=0.5, square = True, cmap = 'Pastel1')\n",
        "plt.ylabel('Actual label')\n",
        "plt.xlabel('Predicted label')\n",
        "all_sample_title = 'Accuracy Score: {0}'.format(accuracy_score(y_test,y_pred))\n",
        "plt.title(all_sample_title, size = 15)"
      ],
      "execution_count": 61,
      "outputs": [
        {
          "output_type": "execute_result",
          "data": {
            "text/plain": [
              "Text(0.5, 1.0, 'Accuracy Score: 0.9796650717703349')"
            ]
          },
          "metadata": {},
          "execution_count": 61
        },
        {
          "output_type": "display_data",
          "data": {
            "image/png": "[encoded data removed]",
            "text/plain": [
              "<Figure size 432x432 with 2 Axes>"
            ]
          },
          "metadata": {
            "needs_background": "light"
          }
        }
      ]
    }
  ]
}